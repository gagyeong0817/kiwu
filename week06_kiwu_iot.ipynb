{
  "nbformat": 4,
  "nbformat_minor": 0,
  "metadata": {
    "colab": {
      "provenance": [],
      "authorship_tag": "ABX9TyMPrZVhbTruy660uu6vmHMV",
      "include_colab_link": true
    },
    "kernelspec": {
      "name": "python3",
      "display_name": "Python 3"
    },
    "language_info": {
      "name": "python"
    }
  },
  "cells": [
    {
      "cell_type": "markdown",
      "metadata": {
        "id": "view-in-github",
        "colab_type": "text"
      },
      "source": [
        "<a href=\"https://colab.research.google.com/github/gagyeong0817/kiwu/blob/main/week06_kiwu_iot.ipynb\" target=\"_parent\"><img src=\"https://colab.research.google.com/assets/colab-badge.svg\" alt=\"Open In Colab\"/></a>"
      ]
    },
    {
      "cell_type": "code",
      "execution_count": 1,
      "metadata": {
        "colab": {
          "base_uri": "https://localhost:8080/"
        },
        "id": "8f_GV24AVZtV",
        "outputId": "56eb1f55-acf0-467a-e68e-7281d8208a33"
      },
      "outputs": [
        {
          "output_type": "stream",
          "name": "stdout",
          "text": [
            "pip 24.1.2 from /usr/local/lib/python3.12/dist-packages/pip (python 3.12)\n"
          ]
        }
      ],
      "source": [
        "!pip --version"
      ]
    },
    {
      "cell_type": "code",
      "source": [
        "import numpy as np\n",
        "import pandas as pd\n",
        "\n",
        "l1 = [-17, \"99\", 2.9, 0,55]\n",
        "# a1 = np.array([-17, 99, 2, 0,55])\n",
        "a1 = np.array(l1)\n",
        "a2 = np.ones(5, dtype=np.int64)\n",
        "a3 = np.zeros(4, dtype=np.int64)\n",
        "print(l1, type(l1))\n",
        "print(a1, type(a1), a1.shape)\n",
        "print(a2, type(a2), a2.shape)\n",
        "print(a3, type(a3), a3.shape)"
      ],
      "metadata": {
        "colab": {
          "base_uri": "https://localhost:8080/"
        },
        "id": "5m4aJXlHVqC0",
        "outputId": "e5ba8c89-3709-4654-cc27-bbc050d09cee"
      },
      "execution_count": 9,
      "outputs": [
        {
          "output_type": "stream",
          "name": "stdout",
          "text": [
            "[-17, '99', 2.9, 0, 55] <class 'list'>\n",
            "['-17' '99' '2.9' '0' '55'] <class 'numpy.ndarray'> (5,)\n",
            "[1 1 1 1 1] <class 'numpy.ndarray'> (5,)\n",
            "[0 0 0 0] <class 'numpy.ndarray'> (4,)\n"
          ]
        }
      ]
    }
  ]
}