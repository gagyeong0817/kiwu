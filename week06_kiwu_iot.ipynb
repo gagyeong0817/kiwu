{
  "nbformat": 4,
  "nbformat_minor": 0,
  "metadata": {
    "colab": {
      "provenance": []
    },
    "kernelspec": {
      "name": "python3",
      "display_name": "Python 3"
    },
    "language_info": {
      "name": "python"
    }
  },
  "cells": [
    {
      "cell_type": "code",
      "execution_count": null,
      "metadata": {
        "colab": {
          "base_uri": "https://localhost:8080/"
        },
        "id": "8f_GV24AVZtV",
        "outputId": "56eb1f55-acf0-467a-e68e-7281d8208a33"
      },
      "outputs": [
        {
          "output_type": "stream",
          "name": "stdout",
          "text": [
            "pip 24.1.2 from /usr/local/lib/python3.12/dist-packages/pip (python 3.12)\n"
          ]
        }
      ],
      "source": [
        "!pip --version"
      ]
    },
    {
      "cell_type": "code",
      "source": [
        "import numpy as np\n",
        "import pandas as pd\n",
        "\n",
        "l1 = [-17, \"99\", 2.9, 0,55]\n",
        "# a1 = np.array([-17, 99, 2, 0,55])\n",
        "a1 = np.array(l1)\n",
        "a2 = np.ones(5, dtype=np.int64)\n",
        "a3 = np.zeros(4, dtype=np.int64)\n",
        "print(l1, type(l1))\n",
        "print(a1, type(a1), a1.shape)\n",
        "print(a2, type(a2), a2.shape)\n",
        "print(a3, type(a3), a3.shape)"
      ],
      "metadata": {
        "colab": {
          "base_uri": "https://localhost:8080/"
        },
        "id": "5m4aJXlHVqC0",
        "outputId": "e5ba8c89-3709-4654-cc27-bbc050d09cee"
      },
      "execution_count": null,
      "outputs": [
        {
          "output_type": "stream",
          "name": "stdout",
          "text": [
            "[-17, '99', 2.9, 0, 55] <class 'list'>\n",
            "['-17' '99' '2.9' '0' '55'] <class 'numpy.ndarray'> (5,)\n",
            "[1 1 1 1 1] <class 'numpy.ndarray'> (5,)\n",
            "[0 0 0 0] <class 'numpy.ndarray'> (4,)\n"
          ]
        }
      ]
    },
    {
      "cell_type": "code",
      "source": [
        "df1 = pd.DataFrame(\n",
        "    [\n",
        "        [10, 7, 91],\n",
        "        [22, -17, 4]\n",
        "    ], index=[1, 2], columns=['python', 'java', 'php']\n",
        ")\n",
        "print(df1)\n",
        "df1 = df1.rename(columns={'python': 'pyt', 'java': 'jav', 'php': 'php'})\n",
        "print(df1)\n",
        "print(df1.iloc[1, 1])\n",
        "# df1.iloc[1, 1] = 17\n",
        "# df1.iloc[0, 2] = 19\n",
        "df1.loc[2, 'jav'] = 17\n",
        "df1.loc[1, 'php'] = 19\n",
        "print(df1)"
      ],
      "metadata": {
        "colab": {
          "base_uri": "https://localhost:8080/"
        },
        "id": "7N-6fDhqd5MP",
        "outputId": "24414719-884b-4194-fe37-453ebe2950e4"
      },
      "execution_count": null,
      "outputs": [
        {
          "output_type": "stream",
          "name": "stdout",
          "text": [
            "   python  java  php\n",
            "1      10     7   91\n",
            "2      22   -17    4\n",
            "   pyt  jav  php\n",
            "1   10    7   91\n",
            "2   22  -17    4\n",
            "-17\n",
            "   pyt  jav  php\n",
            "1   10    7   19\n",
            "2   22   17    4\n"
          ]
        }
      ]
    },
    {
      "cell_type": "code",
      "source": [
        "import seaborn as sns\n",
        "\n",
        "titanic = sns.load_dataset('titanic')\n",
        "# print(titanic.info())\n",
        "# print(titanic.tail(3))\n",
        "print(titanic.query('age >= 70'))"
      ],
      "metadata": {
        "colab": {
          "base_uri": "https://localhost:8080/"
        },
        "id": "agtVjuDsifRB",
        "outputId": "3a77e987-cb26-4b8e-9f9f-60f50a9ad259"
      },
      "execution_count": null,
      "outputs": [
        {
          "output_type": "stream",
          "name": "stdout",
          "text": [
            "     survived  pclass   sex   age  sibsp  parch     fare embarked   class  \\\n",
            "96          0       1  male  71.0      0      0  34.6542        C   First   \n",
            "116         0       3  male  70.5      0      0   7.7500        Q   Third   \n",
            "493         0       1  male  71.0      0      0  49.5042        C   First   \n",
            "630         1       1  male  80.0      0      0  30.0000        S   First   \n",
            "672         0       2  male  70.0      0      0  10.5000        S  Second   \n",
            "745         0       1  male  70.0      1      1  71.0000        S   First   \n",
            "851         0       3  male  74.0      0      0   7.7750        S   Third   \n",
            "\n",
            "     who  adult_male deck  embark_town alive  alone  \n",
            "96   man        True    A    Cherbourg    no   True  \n",
            "116  man        True  NaN   Queenstown    no   True  \n",
            "493  man        True  NaN    Cherbourg    no   True  \n",
            "630  man        True    A  Southampton   yes   True  \n",
            "672  man        True  NaN  Southampton    no   True  \n",
            "745  man        True    B  Southampton    no  False  \n",
            "851  man        True  NaN  Southampton    no   True  \n"
          ]
        }
      ]
    }
  ]
}